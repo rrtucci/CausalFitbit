{
 "cells": [
  {
   "cell_type": "markdown",
   "id": "d04eb2e5-f42e-42a2-9f87-0cf994797399",
   "metadata": {},
   "source": [
    "# Heart rate Data Thinning\n",
    "\n",
    "This jupyter notebook is an excerpt of [this](https://www.kaggle.com/code/carlafgomes/fitbit-data-analysis-in-python#2-Data-Processing)  original notebook Kaggle. The original Kaggle notebook \n",
    "uses as input [this](https://www.kaggle.com/datasets/arashnic/fitbit) dataset at Kaggle. Before running this notebook,\n",
    "you should download that Kaggle dataset and put its contents in the folder\n",
    "\n",
    "`CausalFitbit/input_data/Fitabase Data 4.12.16-5.12.16`\n",
    "\n",
    "X=input_data/Fitabase Data 4.12.16-5.12.16/heartrate_seconds_merged.csv\n",
    "\n",
    "Y=input_data/Fitabase Data 4.12.16-5.12.16/heartrate_reduced_merged.csv\n",
    "\n",
    "Basically, what this notebook does is to convert an \n",
    "input file X to an output file Y. X gives heartrate \n",
    "every 10 secs or so. Y gives hourly averages.\n",
    "\n",
    "X= contains 2.5M rows, 8.5 MB\n",
    "\n",
    "Y contains 3332 rows, 2 KB\n",
    "\n",
    "The reason that I've excerpted this portion is that it takes much more time to run than\n",
    "all other steps in the original notebook. This notebook stores its\n",
    "results in a file Y at the end. Then the notebook \n",
    "`data_preparation.ipynb` uses Y as input. \n",
    "This notebook together with `data_preparation.ipynb` perform the same\n",
    "actions as the original notebook.\n",
    "\n"
   ]
  },
  {
   "cell_type": "code",
   "execution_count": 1,
   "id": "61203904-f716-41dd-a616-51cf45311cc3",
   "metadata": {
    "tags": []
   },
   "outputs": [
    {
     "name": "stdout",
     "output_type": "stream",
     "text": [
      "C:\\Users\\rrtuc\\Desktop\\backed-up\\python-projects\\CausalFitbit\n"
     ]
    }
   ],
   "source": [
    "# this makes sure it starts looking for things from the SentenceAx folder down.\n",
    "import os\n",
    "import sys\n",
    "os.chdir('../')\n",
    "sys.path.insert(0,os.getcwd())\n",
    "print(os.getcwd())"
   ]
  },
  {
   "cell_type": "code",
   "execution_count": 2,
   "id": "1ea7f243-3ad8-4489-9d79-93124ddde6d7",
   "metadata": {},
   "outputs": [],
   "source": [
    "import numpy as np\n",
    "import pandas as pd\n",
    "import datetime as dt\n",
    "import glob"
   ]
  },
  {
   "cell_type": "code",
   "execution_count": 3,
   "id": "ebc328b0-7fd5-4393-bc85-7eb00e1770ef",
   "metadata": {},
   "outputs": [],
   "source": [
    "fnames= [\"dailyActivity\",\n",
    "\"heartrate_seconds\",\n",
    "\"sleepDay\",\n",
    "\"weightLogInfo\"]\n",
    "\n",
    "def get_csv_path(fname):\n",
    " return f\"input_data/Fitabase Data 4.12.16-5.12.16/{fname}_merged.csv\"\n",
    "\n",
    "dfs = [pd.read_csv(get_csv_path(fname)) for fname in fnames]"
   ]
  },
  {
   "cell_type": "code",
   "execution_count": 4,
   "id": "2cddb9af-6067-4850-8640-34151b179787",
   "metadata": {},
   "outputs": [
    {
     "name": "stdout",
     "output_type": "stream",
     "text": [
      "           Id                Time  PulseHourlyAverage\n",
      "0  2022484408 2016-04-12 08:00:00           68.562005\n",
      "1  2022484408 2016-04-12 09:00:00           66.404700\n",
      "2  2022484408 2016-04-12 10:00:00          106.716075\n",
      "3  2022484408 2016-04-12 12:00:00           66.230570\n",
      "4  2022484408 2016-04-12 13:00:00           83.687500\n",
      "Heart Rate df shape: (3332, 3)\n",
      "took 6.01 minutes to process\n"
     ]
    }
   ],
   "source": [
    "# fnames= [\"dailyActivity\",\n",
    "# \"heartrate_seconds\",\n",
    "# \"sleepDay\",\n",
    "# \"weightLogInfo\"]\n",
    "\n",
    "import time\n",
    "start = time.time()\n",
    "\n",
    "#dfs[1] has columns: Id, Time, Value\n",
    "\n",
    "# Convert the 'Time' column to a pandas datetime object\n",
    "dfs[1]['Time'] = pd.to_datetime(dfs[1]['Time'])\n",
    "\n",
    "hourly_df = dfs[1].groupby(\n",
    "    ['Id', pd.Grouper(key='Time', freq='1H')])['Value'].mean().reset_index()\n",
    "hourly_df.rename(columns={'Value': 'PulseHourlyAverage'}, inplace=True)\n",
    "# Drop the 'Value' column as it's no longer needed\n",
    "dfs[1].drop(columns=['Value'], inplace=True)\n",
    "\n",
    "dfs[1] = pd.merge(\n",
    "    dfs[1], hourly_df[['Id', 'Time', 'PulseHourlyAverage']], on=['Id', 'Time'])\n",
    "\n",
    "print(dfs[1].head())\n",
    "print(\"Heart Rate df shape:\", dfs[1].shape)\n",
    "\n",
    "end = time.time()\n",
    "delta = (end - start)/60\n",
    "print(\"took %.2f minutes to process\" % delta)"
   ]
  },
  {
   "cell_type": "code",
   "execution_count": 5,
   "id": "d1c94e81-b353-4fbe-9d16-7760d7e9a8ca",
   "metadata": {},
   "outputs": [
    {
     "name": "stdout",
     "output_type": "stream",
     "text": [
      "Index(['Id', 'Time', 'PulseHourlyAverage'], dtype='object')\n"
     ]
    }
   ],
   "source": [
    "print(dfs[1].columns)"
   ]
  },
  {
   "cell_type": "code",
   "execution_count": 6,
   "id": "89a131ea-7fae-4ae3-8007-2a39399544ff",
   "metadata": {
    "tags": []
   },
   "outputs": [],
   "source": [
    "dfs[1].to_csv(get_csv_path(\"heartrate_reduced\"), index=False)"
   ]
  }
 ],
 "metadata": {
  "kernelspec": {
   "display_name": "Python 3 (ipykernel)",
   "language": "python",
   "name": "python3"
  },
  "language_info": {
   "codemirror_mode": {
    "name": "ipython",
    "version": 3
   },
   "file_extension": ".py",
   "mimetype": "text/x-python",
   "name": "python",
   "nbconvert_exporter": "python",
   "pygments_lexer": "ipython3",
   "version": "3.10.9"
  }
 },
 "nbformat": 4,
 "nbformat_minor": 5
}
