{
 "cells": [
  {
   "cell_type": "markdown",
   "metadata": {},
   "source": [
    "# SUMMARY notebook\n",
    "\n",
    "This notebook scans the directory in which it lives to find all jupyter notebooks (other than itself) in that directory. It then prints for every notebook it finds (1) a hyperlink to the notebook, and (2) the first cell (which is always markdown) of the notebook. This way you can read a nice, automatically generated summary of all the notebooks without having to open all of them. If you find a notebook that you want to explore further, you can simply click on its link to open it."
   ]
  },
  {
   "cell_type": "code",
   "execution_count": 1,
   "metadata": {
    "tags": []
   },
   "outputs": [
    {
     "data": {
      "text/markdown": [
       "\n",
       "\n",
       "<hr style=\"height:10px; background-color: blue;\">\n",
       "\n",
       "data_preparation.ipynb [<a href=\"data_preparation.ipynb\" target= \"_blank\">local link</a>]  [<a href=\"https://github.com/rrtucci/CausalFitbit/blob/master/jupyter_notebooks/data_preparation.ipynb\">github link</a>] 1/3\n",
       "\n",
       "# Data Preparation\n",
       "\n",
       "This jupyter notebook comes from [this](https://www.kaggle.com/code/carlafgomes/fitbit-data-analysis-in-python#2-Data-Processing) original notebook at Kaggle.  The original notebook \n",
       "uses as input [this](https://www.kaggle.com/datasets/arashnic/fitbit) dataset at Kaggle. \n",
       "\n",
       "Before running this notebook,\n",
       "you should run `jupyter_notebooks/heartrate_data_thinning.id.ipynb`.\n",
       "\n",
       "The goal of this notebook is to produce, based on the \n",
       "Kaggle dataset, a file for each patient identified by his/her Id. This set \n",
       "of patient records is stored in the folder `patient_csv_records`\n",
       "\n",
       "\n",
       "\n",
       "<hr style=\"height:10px; background-color: blue;\">\n",
       "\n",
       "heartrate_data_thinning.ipynb [<a href=\"heartrate_data_thinning.ipynb\" target= \"_blank\">local link</a>]  [<a href=\"https://github.com/rrtucci/CausalFitbit/blob/master/jupyter_notebooks/heartrate_data_thinning.ipynb\">github link</a>] 2/3\n",
       "\n",
       "# Heart rate Data Thinning\n",
       "\n",
       "This jupyter notebook is an excerpt of [this](https://www.kaggle.com/code/carlafgomes/fitbit-data-analysis-in-python#2-Data-Processing)  original notebook at Kaggle. The original notebook \n",
       "uses as input [this](https://www.kaggle.com/datasets/arashnic/fitbit) dataset at Kaggle. Before running this notebook,\n",
       "you should download that Kaggle dataset and put its contents in the folder\n",
       "\n",
       "`CausalFitbit/input_data/Fitabase Data 4.12.16-5.12.16`\n",
       "\n",
       "Let\n",
       "\n",
       "X=input_data/Fitabase Data 4.12.16-5.12.16/heartrate_seconds_merged.csv\n",
       "\n",
       "Y=input_data/Fitabase Data 4.12.16-5.12.16/heartrate_reduced_merged.csv\n",
       "\n",
       "Basically, what this notebook does is to convert an \n",
       "input file X to an output file Y. X gives heartrate \n",
       "every 10 secs or so. Y gives hourly averages.\n",
       "\n",
       "X= contains 2.5M rows, 8.5 MB\n",
       "\n",
       "Y contains 3332 rows, 2 KB\n",
       "\n",
       "The reason that I've excerpted this portion is that it takes much longer to run than\n",
       "all other steps in the original notebook. This notebook stores its\n",
       "results in a file Y at the end. Then the notebook \n",
       "`data_preparation.ipynb` uses Y as input. \n",
       "This notebook together with `data_preparation.ipynb` perform the same\n",
       "actions as the original notebook.\n",
       "\n",
       "\n",
       "\n",
       "<hr style=\"height:10px; background-color: blue;\">\n",
       "\n",
       "navigating_patient_records.ipynb [<a href=\"navigating_patient_records.ipynb\" target= \"_blank\">local link</a>]  [<a href=\"https://github.com/rrtucci/CausalFitbit/blob/master/jupyter_notebooks/navigating_patient_records.ipynb\">github link</a>] 3/3\n",
       "\n",
       "# Navigating Patient Records\n",
       "\n",
       "This notebook performs the\n",
       "following 3 steps:\n",
       "\n",
       "1. It reads the patient CSV records in folder\n",
       "`patient_csv_records`. It then writes the patient TXT records in\n",
       "`patient_txt_records`.\n",
       "\n",
       "2. It reads the patient TXT records in\n",
       "`patient_txt_records`. It then creates a causal DAG file for each patient.\n",
       "Those DAG files are in pickle form. They are stored in folder `patient_dag_atlas`.\n",
       "\n",
       "3. It uses the info stored in folder `patient_dag_atlas` to draw, with graphviz, \n",
       "a DAG diagram for each patient.\n",
       "\n"
      ],
      "text/plain": [
       "<IPython.core.display.Markdown object>"
      ]
     },
     "metadata": {},
     "output_type": "display_data"
    }
   ],
   "source": [
    "# Version: 2 (ignore case)\n",
    "import os\n",
    "import json\n",
    "from IPython.display import display, Markdown\n",
    "\n",
    "# the name of this file\n",
    "this_fname = 'SUMMARY.ipynb'\n",
    "fname_to_md = {}\n",
    "for fname in sorted([x for x in os.listdir('./')],\n",
    "                   key=lambda s: s.casefold()):\n",
    "    if fname[-6:] == '.ipynb'  and fname != this_fname:\n",
    "        # print('------------', fname)\n",
    "        with open(fname, 'r', encoding=\"utf-8\") as f:\n",
    "            fdata = json.load(f)\n",
    "            fname_to_md[fname] = ''.join(fdata['cells'][0]['source'])\n",
    "# print(fname_to_md)\n",
    "pre_sep = '\\n\\n<hr style=\"height:10px; background-color: blue;\">\\n\\n'\n",
    "full_md = ''\n",
    "k = 1\n",
    "num_nb = len(fname_to_md)\n",
    "project_name =\"CausalFitbit\"\n",
    "who =\"rrtucci\"\n",
    "where = \"jupyter_notebooks\"\n",
    "for fname, md in fname_to_md.items():\n",
    "    sep = pre_sep\n",
    "    local_link = f' [<a href=\"{fname}\" target= \"_blank\">local link</a>] '\n",
    "    github_link = f' [<a href=\"https://github.com/{who}/{project_name}/blob/master/{where}/' +\\\n",
    "        f'{fname}\">github link</a>] '\n",
    "    sep += fname + local_link + github_link + str(k) + '/' + str(num_nb) + '\\n\\n'\n",
    "    full_md += sep + md\n",
    "    k += 1\n",
    "display(Markdown(full_md))"
   ]
  },
  {
   "cell_type": "code",
   "execution_count": null,
   "metadata": {},
   "outputs": [],
   "source": []
  }
 ],
 "metadata": {
  "kernelspec": {
   "display_name": "Python 3 (ipykernel)",
   "language": "python",
   "name": "python3"
  },
  "language_info": {
   "codemirror_mode": {
    "name": "ipython",
    "version": 3
   },
   "file_extension": ".py",
   "mimetype": "text/x-python",
   "name": "python",
   "nbconvert_exporter": "python",
   "pygments_lexer": "ipython3",
   "version": "3.10.9"
  }
 },
 "nbformat": 4,
 "nbformat_minor": 4
}
