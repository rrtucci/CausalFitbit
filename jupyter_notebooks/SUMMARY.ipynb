{
 "cells": [
  {
   "cell_type": "markdown",
   "metadata": {},
   "source": [
    "# SUMMARY notebook\n",
    "\n",
    "This notebook scans the directory in which it lives to find all jupyter notebooks (other than itself) in that directory. It then prints for every notebook it finds (1) a hyperlink to the notebook, and (2) the first cell (which is always markdown) of the notebook. This way you can read a nice, automatically generated summary of all the notebooks without having to open all of them. If you find a notebook that you want to explore further, you can simply click on its link to open it."
   ]
  },
  {
   "cell_type": "code",
   "execution_count": 1,
   "metadata": {
    "tags": []
   },
   "outputs": [
    {
     "data": {
      "text/markdown": [
       "\n",
       "\n",
       "<hr style=\"height:10px; background-color: blue;\">\n",
       "\n",
       "data_preparation.ipynb [<a href=\"data_preparation.ipynb\" target= \"_blank\">local link</a>]  [<a href=\"https://github.com/rrtucci/SentenceAx/blob/master/jupyter_notebooks/data_preparation.ipynb\">github link</a>] 1/2\n",
       "\n",
       "# this makes sure it starts looking for things from the SentenceAx folder down.\n",
       "import os\n",
       "import sys\n",
       "os.chdir('../')\n",
       "sys.path.insert(0,os.getcwd())\n",
       "print(os.getcwd())\n",
       "\n",
       "<hr style=\"height:10px; background-color: blue;\">\n",
       "\n",
       "heartrate_data_thinning.ipynb [<a href=\"heartrate_data_thinning.ipynb\" target= \"_blank\">local link</a>]  [<a href=\"https://github.com/rrtucci/SentenceAx/blob/master/jupyter_notebooks/heartrate_data_thinning.ipynb\">github link</a>] 2/2\n",
       "\n",
       "# Heartrate Data Thinning\n",
       "\n",
       "This jupyter notebook is an excerpt of [this](https://www.kaggle.com/code/carlafgomes/fitbit-data-analysis-in-python#2-Data-Processing) jupyter notebook at Kaggle.\n",
       "\n",
       "X=input_data/Fitabase Data 4.12.16-5.12.16/heartrate_seconds_merged.csv\n",
       "\n",
       "Y=input_data/Fitabase Data 4.12.16-5.12.16/heartrate_reduced_merged.csv\n",
       "\n",
       "Basically, what this notebook does is to convert an \n",
       "input file X to an output file Y. X gives heartrate \n",
       "every 10 secs or so. Y gives hourly averages.\n",
       "\n",
       "X= contains 2.5M rows, 8.5 MB\n",
       "\n",
       "Y contains 3332 rows, 2 KB\n",
       "\n",
       "The reason that I've excerpted this portion is that it takes much more time to run than\n",
       "all other steps in the original notebook. This notebook stores its\n",
       "results in a file Y at the end. Then the notebook \n",
       "`data_preparation.ipynb` uses Y as input. \n",
       "This notebook together with `data_preparation.ipynb` perform the same\n",
       "actions as the original notebook.\n",
       "\n"
      ],
      "text/plain": [
       "<IPython.core.display.Markdown object>"
      ]
     },
     "metadata": {},
     "output_type": "display_data"
    }
   ],
   "source": [
    "# Version: 2 (ignore case)\n",
    "import os\n",
    "import json\n",
    "from IPython.display import display, Markdown\n",
    "\n",
    "# the name of this file\n",
    "this_fname = 'SUMMARY.ipynb'\n",
    "fname_to_md = {}\n",
    "for fname in sorted([x for x in os.listdir('./')],\n",
    "                   key=lambda s: s.casefold()):\n",
    "    if fname[-6:] == '.ipynb'  and fname != this_fname:\n",
    "        # print('------------', fname)\n",
    "        with open(fname, 'r', encoding=\"utf-8\") as f:\n",
    "            fdata = json.load(f)\n",
    "            fname_to_md[fname] = ''.join(fdata['cells'][0]['source'])\n",
    "# print(fname_to_md)\n",
    "pre_sep = '\\n\\n<hr style=\"height:10px; background-color: blue;\">\\n\\n'\n",
    "full_md = ''\n",
    "k = 1\n",
    "num_nb = len(fname_to_md)\n",
    "project_name =\"SentenceAx\"\n",
    "who =\"rrtucci\"\n",
    "where = \"jupyter_notebooks\"\n",
    "for fname, md in fname_to_md.items():\n",
    "    sep = pre_sep\n",
    "    local_link = f' [<a href=\"{fname}\" target= \"_blank\">local link</a>] '\n",
    "    github_link = f' [<a href=\"https://github.com/{who}/{project_name}/blob/master/{where}/' +\\\n",
    "        f'{fname}\">github link</a>] '\n",
    "    sep += fname + local_link + github_link + str(k) + '/' + str(num_nb) + '\\n\\n'\n",
    "    full_md += sep + md\n",
    "    k += 1\n",
    "display(Markdown(full_md))"
   ]
  },
  {
   "cell_type": "code",
   "execution_count": null,
   "metadata": {},
   "outputs": [],
   "source": []
  }
 ],
 "metadata": {
  "kernelspec": {
   "display_name": "Python 3 (ipykernel)",
   "language": "python",
   "name": "python3"
  },
  "language_info": {
   "codemirror_mode": {
    "name": "ipython",
    "version": 3
   },
   "file_extension": ".py",
   "mimetype": "text/x-python",
   "name": "python",
   "nbconvert_exporter": "python",
   "pygments_lexer": "ipython3",
   "version": "3.10.9"
  }
 },
 "nbformat": 4,
 "nbformat_minor": 4
}
