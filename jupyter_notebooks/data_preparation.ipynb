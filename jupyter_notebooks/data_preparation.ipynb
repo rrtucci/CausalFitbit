{
 "cells": [
  {
   "cell_type": "markdown",
   "id": "a9e69fd1-f1c3-41ed-b29a-4e5916ae0250",
   "metadata": {
    "tags": []
   },
   "source": [
    "# Data Preparation\n",
    "\n",
    "This jupyter notebook comes from [this](https://www.kaggle.com/code/carlafgomes/fitbit-data-analysis-in-python#2-Data-Processing) original notebook Kaggle.  The original Kaggle notebook \n",
    "uses as input [this](https://www.kaggle.com/datasets/arashnic/fitbit) dataset at Kaggle. \n",
    "\n",
    "Before running this notebook,\n",
    "you should run `jupyter_notebooks/heartrate_data_thinning.id.ipynb`.\n",
    "\n",
    "The goal of this notebook is to produce, based on the \n",
    "Kaggle dataset, a file for each patient identified by his/her Id. This set \n",
    "of patient records is stored in the folder `patient_csv_records`\n",
    "\n"
   ]
  },
  {
   "cell_type": "code",
   "execution_count": 1,
   "id": "bdefa17e-c69f-4122-beed-b8b8c855d310",
   "metadata": {
    "tags": []
   },
   "outputs": [
    {
     "name": "stdout",
     "output_type": "stream",
     "text": [
      "C:\\Users\\rrtuc\\Desktop\\backed-up\\python-projects\\CausalFitbit\n"
     ]
    }
   ],
   "source": [
    "# this makes sure it starts looking for things from the SentenceAx folder down.\n",
    "import os\n",
    "import sys\n",
    "os.chdir('../')\n",
    "sys.path.insert(0,os.getcwd())\n",
    "print(os.getcwd())"
   ]
  },
  {
   "cell_type": "code",
   "execution_count": 2,
   "id": "121c6ab5-5ff1-43b5-a4c2-a41bd354a145",
   "metadata": {
    "tags": []
   },
   "outputs": [],
   "source": [
    "import numpy as np\n",
    "import pandas as pd\n",
    "import datetime as dt\n",
    "import glob"
   ]
  },
  {
   "cell_type": "code",
   "execution_count": 3,
   "id": "ef473fee-db59-4750-81e8-15ddf5185953",
   "metadata": {
    "tags": []
   },
   "outputs": [],
   "source": [
    "fnames= [\"dailyActivity\",\n",
    "\"heartrate_reduced\",\n",
    "\"sleepDay\",\n",
    "\"weightLogInfo\"]\n",
    "\n",
    "def get_csv_path(fname):\n",
    " return f\"input_data/Fitabase Data 4.12.16-5.12.16/{fname}_merged.csv\"\n",
    "\n",
    "dfs = [pd.read_csv(get_csv_path(fname)) for fname in fnames]"
   ]
  },
  {
   "cell_type": "code",
   "execution_count": 4,
   "id": "159a97bd-1071-4334-bf93-675ac1af6668",
   "metadata": {
    "tags": []
   },
   "outputs": [
    {
     "name": "stdout",
     "output_type": "stream",
     "text": [
      "dailyActivity 33\n",
      "heartrate_reduced 14\n",
      "sleepDay 24\n",
      "weightLogInfo 8\n"
     ]
    }
   ],
   "source": [
    "# number of unique Id's\n",
    "for i in range(4):\n",
    "    print(fnames[i], dfs[i].Id.nunique())"
   ]
  },
  {
   "cell_type": "code",
   "execution_count": 5,
   "id": "d6e8d286-d04c-46de-8f18-1c456af95693",
   "metadata": {
    "tags": []
   },
   "outputs": [
    {
     "name": "stdout",
     "output_type": "stream",
     "text": [
      "*******dailyActivity\n",
      " Index(['Id', 'ActivityDate', 'TotalSteps', 'TotalDistance', 'TrackerDistance',\n",
      "       'LoggedActivitiesDistance', 'VeryActiveDistance',\n",
      "       'ModeratelyActiveDistance', 'LightActiveDistance',\n",
      "       'SedentaryActiveDistance', 'VeryActiveMinutes', 'FairlyActiveMinutes',\n",
      "       'LightlyActiveMinutes', 'SedentaryMinutes', 'Calories'],\n",
      "      dtype='object')\n",
      "*******heartrate_reduced\n",
      " Index(['Id', 'Time', 'MinuteAverage', 'HourlyAverage'], dtype='object')\n",
      "*******sleepDay\n",
      " Index(['Id', 'SleepDay', 'TotalSleepRecords', 'TotalMinutesAsleep',\n",
      "       'TotalTimeInBed'],\n",
      "      dtype='object')\n",
      "*******weightLogInfo\n",
      " Index(['Id', 'Date', 'WeightKg', 'WeightPounds', 'Fat', 'BMI',\n",
      "       'IsManualReport', 'LogId'],\n",
      "      dtype='object')\n"
     ]
    }
   ],
   "source": [
    "# column names\n",
    "for i in range(4):\n",
    "    print(f\"*******{fnames[i]}\\n\", dfs[i].columns)"
   ]
  },
  {
   "cell_type": "code",
   "execution_count": 6,
   "id": "ec8b0e51-597a-4739-9da2-403fd5e42abd",
   "metadata": {
    "tags": []
   },
   "outputs": [
    {
     "name": "stdout",
     "output_type": "stream",
     "text": [
      "*******dailyActivity\n",
      " Id                          0\n",
      "ActivityDate                0\n",
      "TotalSteps                  0\n",
      "TotalDistance               0\n",
      "TrackerDistance             0\n",
      "LoggedActivitiesDistance    0\n",
      "VeryActiveDistance          0\n",
      "ModeratelyActiveDistance    0\n",
      "LightActiveDistance         0\n",
      "SedentaryActiveDistance     0\n",
      "VeryActiveMinutes           0\n",
      "FairlyActiveMinutes         0\n",
      "LightlyActiveMinutes        0\n",
      "SedentaryMinutes            0\n",
      "Calories                    0\n",
      "dtype: int64\n",
      "*******heartrate_reduced\n",
      " Id               0\n",
      "Time             0\n",
      "MinuteAverage    0\n",
      "HourlyAverage    0\n",
      "dtype: int64\n",
      "*******sleepDay\n",
      " Id                    0\n",
      "SleepDay              0\n",
      "TotalSleepRecords     0\n",
      "TotalMinutesAsleep    0\n",
      "TotalTimeInBed        0\n",
      "dtype: int64\n",
      "*******weightLogInfo\n",
      " Id                 0\n",
      "Date               0\n",
      "WeightKg           0\n",
      "WeightPounds       0\n",
      "Fat               65\n",
      "BMI                0\n",
      "IsManualReport     0\n",
      "LogId              0\n",
      "dtype: int64\n"
     ]
    }
   ],
   "source": [
    "# check for missing values\n",
    "for i in range(4):\n",
    "    print(f\"*******{fnames[i]}\\n\", dfs[i].isnull().sum())"
   ]
  },
  {
   "cell_type": "code",
   "execution_count": 7,
   "id": "0a9291e3-9342-4588-9bd3-075482d28fe2",
   "metadata": {
    "tags": []
   },
   "outputs": [
    {
     "name": "stdout",
     "output_type": "stream",
     "text": [
      "Total number of rows in the 'Fat' column: 67\n"
     ]
    }
   ],
   "source": [
    "total_rows_fat = len(dfs[3]['Fat'])\n",
    "\n",
    "print(f\"Total number of rows in the 'Fat' column: {total_rows_fat}\")"
   ]
  },
  {
   "cell_type": "code",
   "execution_count": 8,
   "id": "6a26ec72-cfee-45da-85c5-253fbf283510",
   "metadata": {
    "tags": []
   },
   "outputs": [],
   "source": [
    "# fnames= [\"dailyActivity\",\n",
    "# \"heartrate_seconds\",\n",
    "# \"sleepDay\",\n",
    "# \"weightLogInfo\"]\n",
    "\n",
    "# Since the 'Fat' columns has 67 rows, \n",
    "# and 65 of them are missing value, it will be dropped\n",
    "dfs[3] = dfs[3].drop(columns=['Fat'])\n",
    "\n",
    "# Also drop the columns that will not be needed\n",
    "\n",
    "dfs[0] = dfs[0].drop(\n",
    "    columns=['LoggedActivitiesDistance', 'TrackerDistance'])\n",
    "dfs[2] = dfs[2].drop(columns=['TotalSleepRecords'])\n",
    "dfs[3] = dfs[3].drop(columns=['IsManualReport', 'LogId'])"
   ]
  },
  {
   "cell_type": "code",
   "execution_count": 9,
   "id": "6a79168c-04f6-41c9-ad58-597873af63a1",
   "metadata": {
    "tags": []
   },
   "outputs": [
    {
     "name": "stdout",
     "output_type": "stream",
     "text": [
      "*******dailyActivity\n",
      " (940, 13)\n",
      "*******heartrate_reduced\n",
      " (3332, 4)\n",
      "*******sleepDay\n",
      " (413, 4)\n",
      "*******weightLogInfo\n",
      " (67, 5)\n"
     ]
    }
   ],
   "source": [
    "# Check the dataframe shapes\n",
    "\n",
    "for i in range(4):   \n",
    "    print(f\"*******{fnames[i]}\\n\", dfs[i].shape)"
   ]
  },
  {
   "cell_type": "code",
   "execution_count": 10,
   "id": "bd7c29f2-a2e4-477f-a8d9-77fab9676bcd",
   "metadata": {
    "tags": []
   },
   "outputs": [
    {
     "data": {
      "text/plain": [
       "Index(['Id', 'SleepDay', 'TotalMinutesAsleep', 'TotalTimeInBedMin',\n",
       "       'TotalHoursAsleep', 'TotalTimeInBedHour'],\n",
       "      dtype='object')"
      ]
     },
     "execution_count": 10,
     "metadata": {},
     "output_type": "execute_result"
    }
   ],
   "source": [
    "# add new columns to sleepDay\n",
    "dfs[2]['TotalHoursAsleep'] = dfs[2]['TotalMinutesAsleep'] / 60\n",
    "dfs[2]['TotalTimeInBedHour'] = dfs[2]['TotalTimeInBed'] / 60\n",
    "dfs[2].rename(columns={'TotalTimeInBed': 'TotalTimeInBedMin'}, inplace=True)\n",
    "\n",
    "dfs[2].columns"
   ]
  },
  {
   "cell_type": "code",
   "execution_count": 11,
   "id": "eec0e66f-0398-43c2-89da-c3295389b7fc",
   "metadata": {
    "tags": []
   },
   "outputs": [],
   "source": [
    "# add new columns to dailyActivity\n",
    "dfs[0][\"TotalActiveMinutes\"] = dfs[0][\"VeryActiveMinutes\"] + dfs[0][\"FairlyActiveMinutes\"] + dfs[0][\"LightlyActiveMinutes\"]\n",
    "dfs[0][\"TotalMinutes\"] = dfs[0][\"TotalActiveMinutes\"] + dfs[0][\"SedentaryMinutes\"]\n",
    "dfs[0][\"TotalActiveHours\"] = round(dfs[0][\"TotalActiveMinutes\"] / 60)\n"
   ]
  },
  {
   "cell_type": "code",
   "execution_count": 12,
   "id": "87d49262-8f10-4567-a8e5-c7f17fee5642",
   "metadata": {
    "tags": []
   },
   "outputs": [
    {
     "data": {
      "text/html": [
       "<div>\n",
       "<style scoped>\n",
       "    .dataframe tbody tr th:only-of-type {\n",
       "        vertical-align: middle;\n",
       "    }\n",
       "\n",
       "    .dataframe tbody tr th {\n",
       "        vertical-align: top;\n",
       "    }\n",
       "\n",
       "    .dataframe thead th {\n",
       "        text-align: right;\n",
       "    }\n",
       "</style>\n",
       "<table border=\"1\" class=\"dataframe\">\n",
       "  <thead>\n",
       "    <tr style=\"text-align: right;\">\n",
       "      <th></th>\n",
       "      <th>Id</th>\n",
       "      <th>ActivityDate</th>\n",
       "      <th>TotalSteps</th>\n",
       "      <th>TotalDistance</th>\n",
       "      <th>VeryActiveDistance</th>\n",
       "      <th>ModeratelyActiveDistance</th>\n",
       "      <th>LightActiveDistance</th>\n",
       "      <th>SedentaryActiveDistance</th>\n",
       "      <th>VeryActiveMinutes</th>\n",
       "      <th>FairlyActiveMinutes</th>\n",
       "      <th>LightlyActiveMinutes</th>\n",
       "      <th>SedentaryMinutes</th>\n",
       "      <th>Calories</th>\n",
       "      <th>TotalActiveMinutes</th>\n",
       "      <th>TotalMinutes</th>\n",
       "      <th>TotalActiveHours</th>\n",
       "    </tr>\n",
       "  </thead>\n",
       "  <tbody>\n",
       "    <tr>\n",
       "      <th>0</th>\n",
       "      <td>1503960366</td>\n",
       "      <td>4/12/2016</td>\n",
       "      <td>13162</td>\n",
       "      <td>8.50</td>\n",
       "      <td>1.88</td>\n",
       "      <td>0.55</td>\n",
       "      <td>6.06</td>\n",
       "      <td>0.0</td>\n",
       "      <td>25</td>\n",
       "      <td>13</td>\n",
       "      <td>328</td>\n",
       "      <td>728</td>\n",
       "      <td>1985</td>\n",
       "      <td>366</td>\n",
       "      <td>1094</td>\n",
       "      <td>6.0</td>\n",
       "    </tr>\n",
       "    <tr>\n",
       "      <th>1</th>\n",
       "      <td>1503960366</td>\n",
       "      <td>4/13/2016</td>\n",
       "      <td>10735</td>\n",
       "      <td>6.97</td>\n",
       "      <td>1.57</td>\n",
       "      <td>0.69</td>\n",
       "      <td>4.71</td>\n",
       "      <td>0.0</td>\n",
       "      <td>21</td>\n",
       "      <td>19</td>\n",
       "      <td>217</td>\n",
       "      <td>776</td>\n",
       "      <td>1797</td>\n",
       "      <td>257</td>\n",
       "      <td>1033</td>\n",
       "      <td>4.0</td>\n",
       "    </tr>\n",
       "    <tr>\n",
       "      <th>2</th>\n",
       "      <td>1503960366</td>\n",
       "      <td>4/14/2016</td>\n",
       "      <td>10460</td>\n",
       "      <td>6.74</td>\n",
       "      <td>2.44</td>\n",
       "      <td>0.40</td>\n",
       "      <td>3.91</td>\n",
       "      <td>0.0</td>\n",
       "      <td>30</td>\n",
       "      <td>11</td>\n",
       "      <td>181</td>\n",
       "      <td>1218</td>\n",
       "      <td>1776</td>\n",
       "      <td>222</td>\n",
       "      <td>1440</td>\n",
       "      <td>4.0</td>\n",
       "    </tr>\n",
       "    <tr>\n",
       "      <th>3</th>\n",
       "      <td>1503960366</td>\n",
       "      <td>4/15/2016</td>\n",
       "      <td>9762</td>\n",
       "      <td>6.28</td>\n",
       "      <td>2.14</td>\n",
       "      <td>1.26</td>\n",
       "      <td>2.83</td>\n",
       "      <td>0.0</td>\n",
       "      <td>29</td>\n",
       "      <td>34</td>\n",
       "      <td>209</td>\n",
       "      <td>726</td>\n",
       "      <td>1745</td>\n",
       "      <td>272</td>\n",
       "      <td>998</td>\n",
       "      <td>5.0</td>\n",
       "    </tr>\n",
       "    <tr>\n",
       "      <th>4</th>\n",
       "      <td>1503960366</td>\n",
       "      <td>4/16/2016</td>\n",
       "      <td>12669</td>\n",
       "      <td>8.16</td>\n",
       "      <td>2.71</td>\n",
       "      <td>0.41</td>\n",
       "      <td>5.04</td>\n",
       "      <td>0.0</td>\n",
       "      <td>36</td>\n",
       "      <td>10</td>\n",
       "      <td>221</td>\n",
       "      <td>773</td>\n",
       "      <td>1863</td>\n",
       "      <td>267</td>\n",
       "      <td>1040</td>\n",
       "      <td>4.0</td>\n",
       "    </tr>\n",
       "  </tbody>\n",
       "</table>\n",
       "</div>"
      ],
      "text/plain": [
       "           Id ActivityDate  TotalSteps  TotalDistance  VeryActiveDistance  \\\n",
       "0  1503960366    4/12/2016       13162           8.50                1.88   \n",
       "1  1503960366    4/13/2016       10735           6.97                1.57   \n",
       "2  1503960366    4/14/2016       10460           6.74                2.44   \n",
       "3  1503960366    4/15/2016        9762           6.28                2.14   \n",
       "4  1503960366    4/16/2016       12669           8.16                2.71   \n",
       "\n",
       "   ModeratelyActiveDistance  LightActiveDistance  SedentaryActiveDistance  \\\n",
       "0                      0.55                 6.06                      0.0   \n",
       "1                      0.69                 4.71                      0.0   \n",
       "2                      0.40                 3.91                      0.0   \n",
       "3                      1.26                 2.83                      0.0   \n",
       "4                      0.41                 5.04                      0.0   \n",
       "\n",
       "   VeryActiveMinutes  FairlyActiveMinutes  LightlyActiveMinutes  \\\n",
       "0                 25                   13                   328   \n",
       "1                 21                   19                   217   \n",
       "2                 30                   11                   181   \n",
       "3                 29                   34                   209   \n",
       "4                 36                   10                   221   \n",
       "\n",
       "   SedentaryMinutes  Calories  TotalActiveMinutes  TotalMinutes  \\\n",
       "0               728      1985                 366          1094   \n",
       "1               776      1797                 257          1033   \n",
       "2              1218      1776                 222          1440   \n",
       "3               726      1745                 272           998   \n",
       "4               773      1863                 267          1040   \n",
       "\n",
       "   TotalActiveHours  \n",
       "0               6.0  \n",
       "1               4.0  \n",
       "2               4.0  \n",
       "3               5.0  \n",
       "4               4.0  "
      ]
     },
     "execution_count": 12,
     "metadata": {},
     "output_type": "execute_result"
    }
   ],
   "source": [
    "dfs[0].head()"
   ]
  },
  {
   "cell_type": "code",
   "execution_count": 13,
   "id": "c6cdf34e-5625-4578-b39a-6e1d85886907",
   "metadata": {
    "tags": []
   },
   "outputs": [
    {
     "name": "stdout",
     "output_type": "stream",
     "text": [
      "*******dailyActivity\n",
      " Id                            int64\n",
      "ActivityDate                 object\n",
      "TotalSteps                    int64\n",
      "TotalDistance               float64\n",
      "VeryActiveDistance          float64\n",
      "ModeratelyActiveDistance    float64\n",
      "LightActiveDistance         float64\n",
      "SedentaryActiveDistance     float64\n",
      "VeryActiveMinutes             int64\n",
      "FairlyActiveMinutes           int64\n",
      "LightlyActiveMinutes          int64\n",
      "SedentaryMinutes              int64\n",
      "Calories                      int64\n",
      "TotalActiveMinutes            int64\n",
      "TotalMinutes                  int64\n",
      "TotalActiveHours            float64\n",
      "dtype: object\n",
      "*******heartrate_reduced\n",
      " Id                 int64\n",
      "Time              object\n",
      "MinuteAverage    float64\n",
      "HourlyAverage    float64\n",
      "dtype: object\n",
      "*******sleepDay\n",
      " Id                      int64\n",
      "SleepDay               object\n",
      "TotalMinutesAsleep      int64\n",
      "TotalTimeInBedMin       int64\n",
      "TotalHoursAsleep      float64\n",
      "TotalTimeInBedHour    float64\n",
      "dtype: object\n",
      "*******weightLogInfo\n",
      " Id                int64\n",
      "Date             object\n",
      "WeightKg        float64\n",
      "WeightPounds    float64\n",
      "BMI             float64\n",
      "dtype: object\n"
     ]
    }
   ],
   "source": [
    "# datatypes\n",
    "for i in range(4):   \n",
    "    print(f\"*******{fnames[i]}\\n\", dfs[i].dtypes)"
   ]
  },
  {
   "cell_type": "code",
   "execution_count": 14,
   "id": "c6e45c1c-3018-4451-bd3e-fd4e25a2cc34",
   "metadata": {
    "tags": []
   },
   "outputs": [
    {
     "data": {
      "text/plain": [
       "Index(['Id', 'Date', 'WeightKg', 'WeightPounds', 'BMI'], dtype='object')"
      ]
     },
     "execution_count": 14,
     "metadata": {},
     "output_type": "execute_result"
    }
   ],
   "source": [
    "dfs[3].columns"
   ]
  },
  {
   "cell_type": "code",
   "execution_count": 27,
   "id": "760696ee-302f-4ee7-afa1-1b3b3d726f48",
   "metadata": {
    "tags": []
   },
   "outputs": [],
   "source": [
    "# Transform Date to DateTime data type\n",
    "time_labels = [\"ActivityDate\", \"Time\", \"SleepDay\", \"Date\"]\n",
    "for i in range(4): \n",
    "    str0 = time_labels[i]\n",
    "    dfs[i][str0] = pd.to_datetime(dfs[i][str0])\n"
   ]
  },
  {
   "cell_type": "code",
   "execution_count": 16,
   "id": "134ab7c8-7c20-4dca-a982-dcfa58f44489",
   "metadata": {
    "tags": []
   },
   "outputs": [
    {
     "name": "stdout",
     "output_type": "stream",
     "text": [
      "*******dailyActivity\n",
      " Id                                   int64\n",
      "ActivityDate                datetime64[ns]\n",
      "TotalSteps                           int64\n",
      "TotalDistance                      float64\n",
      "VeryActiveDistance                 float64\n",
      "ModeratelyActiveDistance           float64\n",
      "LightActiveDistance                float64\n",
      "SedentaryActiveDistance            float64\n",
      "VeryActiveMinutes                    int64\n",
      "FairlyActiveMinutes                  int64\n",
      "LightlyActiveMinutes                 int64\n",
      "SedentaryMinutes                     int64\n",
      "Calories                             int64\n",
      "TotalActiveMinutes                   int64\n",
      "TotalMinutes                         int64\n",
      "TotalActiveHours                   float64\n",
      "dtype: object\n",
      "*******heartrate_reduced\n",
      " Id                        int64\n",
      "Time             datetime64[ns]\n",
      "MinuteAverage           float64\n",
      "HourlyAverage           float64\n",
      "dtype: object\n",
      "*******sleepDay\n",
      " Id                             int64\n",
      "SleepDay              datetime64[ns]\n",
      "TotalMinutesAsleep             int64\n",
      "TotalTimeInBedMin              int64\n",
      "TotalHoursAsleep             float64\n",
      "TotalTimeInBedHour           float64\n",
      "dtype: object\n",
      "*******weightLogInfo\n",
      " Id                       int64\n",
      "Date            datetime64[ns]\n",
      "WeightKg               float64\n",
      "WeightPounds           float64\n",
      "BMI                    float64\n",
      "dtype: object\n"
     ]
    }
   ],
   "source": [
    "# datatypes\n",
    "for i in range(4):   \n",
    "    print(f\"*******{fnames[i]}\\n\", dfs[i].dtypes)"
   ]
  },
  {
   "cell_type": "code",
   "execution_count": 25,
   "id": "42735b71-41ea-46d5-9305-27f2d812613c",
   "metadata": {
    "tags": []
   },
   "outputs": [
    {
     "name": "stdout",
     "output_type": "stream",
     "text": [
      "*******dailyActivity\n",
      "False\n",
      "*******heartrate_reduced\n",
      "False\n",
      "*******sleepDay\n",
      "True\n",
      "*******weightLogInfo\n",
      "False\n",
      "*******dailyActivity\n",
      "Id                          False\n",
      "ActivityDate                False\n",
      "TotalSteps                  False\n",
      "TotalDistance               False\n",
      "VeryActiveDistance          False\n",
      "ModeratelyActiveDistance    False\n",
      "LightActiveDistance         False\n",
      "SedentaryActiveDistance     False\n",
      "VeryActiveMinutes           False\n",
      "FairlyActiveMinutes         False\n",
      "LightlyActiveMinutes        False\n",
      "SedentaryMinutes            False\n",
      "Calories                    False\n",
      "TotalActiveMinutes          False\n",
      "TotalMinutes                False\n",
      "TotalActiveHours            False\n",
      "dtype: bool\n",
      "*******heartrate_reduced\n",
      "Id               False\n",
      "Time             False\n",
      "MinuteAverage    False\n",
      "HourlyAverage    False\n",
      "dtype: bool\n",
      "*******sleepDay\n",
      "Id                    False\n",
      "SleepDay              False\n",
      "TotalMinutesAsleep    False\n",
      "TotalTimeInBedMin     False\n",
      "TotalHoursAsleep      False\n",
      "TotalTimeInBedHour    False\n",
      "dtype: bool\n",
      "*******weightLogInfo\n",
      "Id              False\n",
      "Date            False\n",
      "WeightKg        False\n",
      "WeightPounds    False\n",
      "BMI             False\n",
      "dtype: bool\n"
     ]
    }
   ],
   "source": [
    "# check for duplicates\n",
    "for i in range(4):\n",
    "    print(f\"*******{fnames[i]}\") \n",
    "    print(dfs[i].duplicated().any())\n",
    "          "
   ]
  },
  {
   "cell_type": "code",
   "execution_count": 26,
   "id": "c951b1fa-415a-4849-8370-60c6d4d4f5b8",
   "metadata": {
    "tags": []
   },
   "outputs": [
    {
     "name": "stdout",
     "output_type": "stream",
     "text": [
      "*******dailyActivity\n",
      "Id                          False\n",
      "ActivityDate                False\n",
      "TotalSteps                  False\n",
      "TotalDistance               False\n",
      "VeryActiveDistance          False\n",
      "ModeratelyActiveDistance    False\n",
      "LightActiveDistance         False\n",
      "SedentaryActiveDistance     False\n",
      "VeryActiveMinutes           False\n",
      "FairlyActiveMinutes         False\n",
      "LightlyActiveMinutes        False\n",
      "SedentaryMinutes            False\n",
      "Calories                    False\n",
      "TotalActiveMinutes          False\n",
      "TotalMinutes                False\n",
      "TotalActiveHours            False\n",
      "dtype: bool\n",
      "*******heartrate_reduced\n",
      "Id               False\n",
      "Time             False\n",
      "MinuteAverage    False\n",
      "HourlyAverage    False\n",
      "dtype: bool\n",
      "*******sleepDay\n",
      "Id                    False\n",
      "SleepDay              False\n",
      "TotalMinutesAsleep    False\n",
      "TotalTimeInBedMin     False\n",
      "TotalHoursAsleep      False\n",
      "TotalTimeInBedHour    False\n",
      "dtype: bool\n",
      "*******weightLogInfo\n",
      "Id              False\n",
      "Date            False\n",
      "WeightKg        False\n",
      "WeightPounds    False\n",
      "BMI             False\n",
      "dtype: bool\n"
     ]
    }
   ],
   "source": [
    "# check for nulls\n",
    "for i in range(4):\n",
    "    print(f\"*******{fnames[i]}\") \n",
    "    print(dfs[i].isnull().any())\n",
    "          "
   ]
  },
  {
   "cell_type": "code",
   "execution_count": 28,
   "id": "f739a75f-edbc-4d17-a58f-003d19ea60ba",
   "metadata": {
    "tags": []
   },
   "outputs": [],
   "source": [
    "# renaming time columns all by same name\n",
    "time_labels = [\"ActivityDate\", \"Time\", \"SleepDay\", \"Date\"]\n",
    "for i in range(4): \n",
    "    str0 = time_labels[i]\n",
    "for i in range(4):\n",
    "    dfs[i] = dfs[i].rename(columns={str0: 'ActivityDate'})\n"
   ]
  },
  {
   "cell_type": "code",
   "execution_count": 29,
   "id": "699a5d54-44c4-413e-bafb-e6b439944c8b",
   "metadata": {
    "tags": []
   },
   "outputs": [
    {
     "name": "stdout",
     "output_type": "stream",
     "text": [
      "             Id ActivityDate  TotalSteps  TotalDistance  VeryActiveDistance  \\\n",
      "0    1503960366   2016-04-12     13162.0           8.50                1.88   \n",
      "737  7086361926   2016-04-12     11317.0           8.41                5.27   \n",
      "711  7007744171   2016-04-12     14172.0          10.29                4.50   \n",
      "680  6962181067   2016-04-12     10199.0           6.74                3.40   \n",
      "654  6775888955   2016-04-12         0.0           0.00                0.00   \n",
      "\n",
      "     ModeratelyActiveDistance  LightActiveDistance  SedentaryActiveDistance  \\\n",
      "0                        0.55                 6.06                      0.0   \n",
      "737                      0.15                 2.97                      0.0   \n",
      "711                      0.38                 5.41                      0.0   \n",
      "680                      0.83                 2.51                      0.0   \n",
      "654                      0.00                 0.00                      0.0   \n",
      "\n",
      "     VeryActiveMinutes  FairlyActiveMinutes  ...  MinuteAverage  \\\n",
      "0                 25.0                 13.0  ...            NaN   \n",
      "737               59.0                  6.0  ...            NaN   \n",
      "711               53.0                  8.0  ...            NaN   \n",
      "680               50.0                 14.0  ...            NaN   \n",
      "654                0.0                  0.0  ...            NaN   \n",
      "\n",
      "     HourlyAverage  SleepDay  TotalMinutesAsleep  TotalTimeInBedMin  \\\n",
      "0              NaN       NaT                 NaN                NaN   \n",
      "737            NaN       NaT                 NaN                NaN   \n",
      "711            NaN       NaT                 NaN                NaN   \n",
      "680            NaN       NaT                 NaN                NaN   \n",
      "654            NaN       NaT                 NaN                NaN   \n",
      "\n",
      "     TotalHoursAsleep TotalTimeInBedHour  WeightKg  WeightPounds BMI  \n",
      "0                 NaN                NaN       NaN           NaN NaN  \n",
      "737               NaN                NaN       NaN           NaN NaN  \n",
      "711               NaN                NaN       NaN           NaN NaN  \n",
      "680               NaN                NaN       NaN           NaN NaN  \n",
      "654               NaN                NaN       NaN           NaN NaN  \n",
      "\n",
      "[5 rows x 27 columns]\n"
     ]
    },
    {
     "data": {
      "text/plain": [
       "Index(['Id', 'ActivityDate', 'TotalSteps', 'TotalDistance',\n",
       "       'VeryActiveDistance', 'ModeratelyActiveDistance', 'LightActiveDistance',\n",
       "       'SedentaryActiveDistance', 'VeryActiveMinutes', 'FairlyActiveMinutes',\n",
       "       'LightlyActiveMinutes', 'SedentaryMinutes', 'Calories',\n",
       "       'TotalActiveMinutes', 'TotalMinutes', 'TotalActiveHours', 'Time',\n",
       "       'MinuteAverage', 'HourlyAverage', 'SleepDay', 'TotalMinutesAsleep',\n",
       "       'TotalTimeInBedMin', 'TotalHoursAsleep', 'TotalTimeInBedHour',\n",
       "       'WeightKg', 'WeightPounds', 'BMI'],\n",
       "      dtype='object')"
      ]
     },
     "execution_count": 29,
     "metadata": {},
     "output_type": "execute_result"
    }
   ],
   "source": [
    "# Step 1: Concatenate the DataFrames vertically to combine all the data\n",
    "combined_df = pd.concat(dfs, ignore_index=True)\n",
    "\n",
    "# Step 2: Sort the combined DataFrame by \"ActivityDate\" \n",
    "combined_df.sort_values(by='ActivityDate', inplace=True)\n",
    "\n",
    "# Step 3: Merge the data using forward fill (ffill) to \n",
    "# fill NaN values in subsequent columns\n",
    "combined_df.ffill(inplace=True)\n",
    "\n",
    "print(combined_df.head())\n",
    "combined_df.columns"
   ]
  },
  {
   "cell_type": "code",
   "execution_count": 30,
   "id": "9febadbc-c324-4ae9-b449-84b393dc94a8",
   "metadata": {
    "tags": []
   },
   "outputs": [
    {
     "data": {
      "text/plain": [
       "(4752, 27)"
      ]
     },
     "execution_count": 30,
     "metadata": {},
     "output_type": "execute_result"
    }
   ],
   "source": [
    "combined_df.shape"
   ]
  },
  {
   "cell_type": "code",
   "execution_count": 35,
   "id": "1c695b9b-cb3a-492e-81d8-232bf226cd59",
   "metadata": {
    "tags": []
   },
   "outputs": [
    {
     "name": "stdout",
     "output_type": "stream",
     "text": [
      "1503960366 (58, 27)\n",
      "1624580081 (31, 27)\n",
      "1644430081 (34, 27)\n",
      "1844505072 (34, 27)\n",
      "1927972279 (37, 27)\n",
      "2022484408 (246, 27)\n",
      "2026352035 (64, 27)\n",
      "2320127002 (32, 27)\n",
      "2347167796 (274, 27)\n",
      "2873212765 (33, 27)\n",
      "3372868164 (20, 27)\n",
      "3977333714 (58, 27)\n",
      "4020332650 (119, 27)\n",
      "4057192912 (4, 27)\n",
      "4319703577 (59, 27)\n",
      "4388161847 (514, 27)\n",
      "4445114986 (59, 27)\n",
      "4558609924 (333, 27)\n",
      "4702921684 (59, 27)\n",
      "5553957443 (467, 27)\n",
      "5577150313 (434, 27)\n",
      "6117666160 (326, 27)\n",
      "6290855005 (29, 27)\n",
      "6775888955 (88, 27)\n",
      "6962181067 (513, 27)\n",
      "7007744171 (243, 27)\n",
      "7086361926 (55, 27)\n",
      "8053475328 (34, 27)\n",
      "8253242879 (19, 27)\n",
      "8378563200 (63, 27)\n",
      "8583815059 (31, 27)\n",
      "8792009665 (265, 27)\n",
      "8877689391 (117, 27)\n"
     ]
    }
   ],
   "source": [
    "group_dict = combined_df.groupby('Id')\n",
    "\n",
    "for patient_id, patient_df in group_dict:\n",
    "    path = f\"patient_csv_records/patient_{patient_id}.csv\"\n",
    "    patient_df.to_csv(path, index=False)\n",
    "    print(patient_id, patient_df.shape)"
   ]
  },
  {
   "cell_type": "code",
   "execution_count": null,
   "id": "4713ace4-da50-4780-9367-7311249aa637",
   "metadata": {},
   "outputs": [],
   "source": []
  }
 ],
 "metadata": {
  "kernelspec": {
   "display_name": "Python 3 (ipykernel)",
   "language": "python",
   "name": "python3"
  },
  "language_info": {
   "codemirror_mode": {
    "name": "ipython",
    "version": 3
   },
   "file_extension": ".py",
   "mimetype": "text/x-python",
   "name": "python",
   "nbconvert_exporter": "python",
   "pygments_lexer": "ipython3",
   "version": "3.10.9"
  }
 },
 "nbformat": 4,
 "nbformat_minor": 5
}
