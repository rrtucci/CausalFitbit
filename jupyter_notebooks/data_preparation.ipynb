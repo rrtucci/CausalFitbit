{
 "cells": [
  {
   "cell_type": "markdown",
   "id": "a9e69fd1-f1c3-41ed-b29a-4e5916ae0250",
   "metadata": {
    "tags": []
   },
   "source": [
    "# Data Preparation\n",
    "\n",
    "This jupyter notebook comes from [this](https://www.kaggle.com/code/carlafgomes/fitbit-data-analysis-in-python#2-Data-Processing) original notebook Kaggle.  The original Kaggle notebook \n",
    "uses as input [this](https://www.kaggle.com/datasets/arashnic/fitbit) dataset at Kaggle. \n",
    "\n",
    "Before running this notebook,\n",
    "you should run `jupyter_notebooks/heartrate_data_thinning.id.ipynb`.\n",
    "\n",
    "The goal of this notebook is to produce, based on the \n",
    "Kaggle dataset, a file for each patient identified by his/her Id. This set \n",
    "of patient records is stored in the folder `patient_csv_records`\n",
    "\n"
   ]
  },
  {
   "cell_type": "code",
   "execution_count": 1,
   "id": "bdefa17e-c69f-4122-beed-b8b8c855d310",
   "metadata": {
    "tags": []
   },
   "outputs": [
    {
     "name": "stdout",
     "output_type": "stream",
     "text": [
      "C:\\Users\\rrtuc\\Desktop\\backed-up\\python-projects\\CausalFitbit\n"
     ]
    }
   ],
   "source": [
    "# this makes sure it starts looking for things from the CausalFitbit folder down.\n",
    "import os\n",
    "import sys\n",
    "os.chdir('../')\n",
    "sys.path.insert(0,os.getcwd())\n",
    "print(os.getcwd())"
   ]
  },
  {
   "cell_type": "code",
   "execution_count": 2,
   "id": "121c6ab5-5ff1-43b5-a4c2-a41bd354a145",
   "metadata": {
    "tags": []
   },
   "outputs": [],
   "source": [
    "import numpy as np\n",
    "import pandas as pd\n",
    "import datetime as dt\n",
    "import glob"
   ]
  },
  {
   "cell_type": "code",
   "execution_count": 3,
   "id": "ef473fee-db59-4750-81e8-15ddf5185953",
   "metadata": {
    "tags": []
   },
   "outputs": [],
   "source": [
    "fnames= [\"dailyActivity\",\n",
    "\"heartrate_reduced\",\n",
    "\"sleepDay\",\n",
    "\"weightLogInfo\"]\n",
    "\n",
    "def get_csv_path(fname):\n",
    " return f\"input_data/Fitabase Data 4.12.16-5.12.16/{fname}_merged.csv\"\n",
    "\n",
    "dfs = [pd.read_csv(get_csv_path(fname)) for fname in fnames]"
   ]
  },
  {
   "cell_type": "code",
   "execution_count": 4,
   "id": "159a97bd-1071-4334-bf93-675ac1af6668",
   "metadata": {
    "tags": []
   },
   "outputs": [
    {
     "name": "stdout",
     "output_type": "stream",
     "text": [
      "dailyActivity 33\n",
      "heartrate_reduced 14\n",
      "sleepDay 24\n",
      "weightLogInfo 8\n"
     ]
    }
   ],
   "source": [
    "# number of unique Id's\n",
    "for i in range(4):\n",
    "    print(fnames[i], dfs[i].Id.nunique())"
   ]
  },
  {
   "cell_type": "code",
   "execution_count": 5,
   "id": "d6e8d286-d04c-46de-8f18-1c456af95693",
   "metadata": {
    "tags": []
   },
   "outputs": [
    {
     "name": "stdout",
     "output_type": "stream",
     "text": [
      "*******dailyActivity\n",
      " Index(['Id', 'ActivityDate', 'TotalSteps', 'TotalDistance', 'TrackerDistance',\n",
      "       'LoggedActivitiesDistance', 'VeryActiveDistance',\n",
      "       'ModeratelyActiveDistance', 'LightActiveDistance',\n",
      "       'SedentaryActiveDistance', 'VeryActiveMinutes', 'FairlyActiveMinutes',\n",
      "       'LightlyActiveMinutes', 'SedentaryMinutes', 'Calories'],\n",
      "      dtype='object')\n",
      "*******heartrate_reduced\n",
      " Index(['Id', 'Time', 'PulseHourlyAverage'], dtype='object')\n",
      "*******sleepDay\n",
      " Index(['Id', 'SleepDay', 'TotalSleepRecords', 'TotalMinutesAsleep',\n",
      "       'TotalTimeInBed'],\n",
      "      dtype='object')\n",
      "*******weightLogInfo\n",
      " Index(['Id', 'Date', 'WeightKg', 'WeightPounds', 'Fat', 'BMI',\n",
      "       'IsManualReport', 'LogId'],\n",
      "      dtype='object')\n"
     ]
    }
   ],
   "source": [
    "# column names\n",
    "for i in range(4):\n",
    "    print(f\"*******{fnames[i]}\\n\", dfs[i].columns)"
   ]
  },
  {
   "cell_type": "code",
   "execution_count": 6,
   "id": "ec8b0e51-597a-4739-9da2-403fd5e42abd",
   "metadata": {
    "tags": []
   },
   "outputs": [
    {
     "name": "stdout",
     "output_type": "stream",
     "text": [
      "*******dailyActivity\n",
      " Id                          0\n",
      "ActivityDate                0\n",
      "TotalSteps                  0\n",
      "TotalDistance               0\n",
      "TrackerDistance             0\n",
      "LoggedActivitiesDistance    0\n",
      "VeryActiveDistance          0\n",
      "ModeratelyActiveDistance    0\n",
      "LightActiveDistance         0\n",
      "SedentaryActiveDistance     0\n",
      "VeryActiveMinutes           0\n",
      "FairlyActiveMinutes         0\n",
      "LightlyActiveMinutes        0\n",
      "SedentaryMinutes            0\n",
      "Calories                    0\n",
      "dtype: int64\n",
      "*******heartrate_reduced\n",
      " Id                    0\n",
      "Time                  0\n",
      "PulseHourlyAverage    0\n",
      "dtype: int64\n",
      "*******sleepDay\n",
      " Id                    0\n",
      "SleepDay              0\n",
      "TotalSleepRecords     0\n",
      "TotalMinutesAsleep    0\n",
      "TotalTimeInBed        0\n",
      "dtype: int64\n",
      "*******weightLogInfo\n",
      " Id                 0\n",
      "Date               0\n",
      "WeightKg           0\n",
      "WeightPounds       0\n",
      "Fat               65\n",
      "BMI                0\n",
      "IsManualReport     0\n",
      "LogId              0\n",
      "dtype: int64\n"
     ]
    }
   ],
   "source": [
    "# check for missing values\n",
    "for i in range(4):\n",
    "    print(f\"*******{fnames[i]}\\n\", dfs[i].isnull().sum())"
   ]
  },
  {
   "cell_type": "code",
   "execution_count": 7,
   "id": "0a9291e3-9342-4588-9bd3-075482d28fe2",
   "metadata": {
    "tags": []
   },
   "outputs": [
    {
     "name": "stdout",
     "output_type": "stream",
     "text": [
      "Total number of rows in the 'Fat' column: 67\n"
     ]
    }
   ],
   "source": [
    "total_rows_fat = len(dfs[3]['Fat'])\n",
    "\n",
    "print(f\"Total number of rows in the 'Fat' column: {total_rows_fat}\")"
   ]
  },
  {
   "cell_type": "code",
   "execution_count": 8,
   "id": "6a26ec72-cfee-45da-85c5-253fbf283510",
   "metadata": {
    "tags": []
   },
   "outputs": [],
   "source": [
    "# fnames= [\"dailyActivity\",\n",
    "# \"heartrate_seconds\",\n",
    "# \"sleepDay\",\n",
    "# \"weightLogInfo\"]\n",
    "\n",
    "# Since the 'Fat' columns has 67 rows, \n",
    "# and 65 of them are missing value, it will be dropped\n",
    "dfs[3] = dfs[3].drop(columns=['Fat'])\n",
    "\n",
    "# drop the columns that will not be needed\n",
    "dfs[0] = dfs[0].drop(\n",
    "    columns=['LoggedActivitiesDistance', 'TrackerDistance'])\n",
    "dfs[2] = dfs[2].drop(columns=['TotalSleepRecords'])\n",
    "dfs[3] = dfs[3].drop(columns=['IsManualReport', 'LogId', 'WeightKg'])\n",
    "\n",
    "# rename ActiveDistance cols to something less stupid\n",
    "dfs[0] = dfs[0].rename(columns={\"SedentaryActiveDistance\": \"ActiveDistance0\"})\n",
    "dfs[0] = dfs[0].rename(columns={\"LightActiveDistance\": \"ActiveDistance1\"})\n",
    "dfs[0] = dfs[0].rename(columns={\"ModeratelyActiveDistance\": \"ActiveDistance2\"})\n",
    "dfs[0] = dfs[0].rename(columns={\"VeryActiveDistance\": \"ActiveDistance3\"})\n",
    "\n",
    "# rename ActiveMinutes cols to something less stupid\n",
    "dfs[0] = dfs[0].rename(columns={\"SedentaryMinutes\": \"ActiveMinutes0\"})\n",
    "dfs[0] = dfs[0].rename(columns={\"LightlyActiveMinutes\": \"ActiveMinutes1\"})\n",
    "dfs[0] = dfs[0].rename(columns={\"FairlyActiveMinutes\": \"ActiveMinutes2\"})\n",
    "dfs[0] = dfs[0].rename(columns={\"VeryActiveMinutes\": \"ActiveMinutes3\"})"
   ]
  },
  {
   "cell_type": "code",
   "execution_count": 9,
   "id": "6a79168c-04f6-41c9-ad58-597873af63a1",
   "metadata": {
    "tags": []
   },
   "outputs": [
    {
     "name": "stdout",
     "output_type": "stream",
     "text": [
      "*******dailyActivity\n",
      " (940, 13)\n",
      "*******heartrate_reduced\n",
      " (3332, 3)\n",
      "*******sleepDay\n",
      " (413, 4)\n",
      "*******weightLogInfo\n",
      " (67, 4)\n"
     ]
    }
   ],
   "source": [
    "# dataframe shapes\n",
    "for i in range(4):   \n",
    "    print(f\"*******{fnames[i]}\\n\", dfs[i].shape)"
   ]
  },
  {
   "cell_type": "code",
   "execution_count": 10,
   "id": "bd7c29f2-a2e4-477f-a8d9-77fab9676bcd",
   "metadata": {
    "tags": []
   },
   "outputs": [
    {
     "name": "stdout",
     "output_type": "stream",
     "text": [
      "Index(['Id', 'SleepDay', 'HoursAsleep', 'HoursInBed'], dtype='object')\n"
     ]
    }
   ],
   "source": [
    "# add new hour columns to sleepDay\n",
    "dfs[2]['HoursAsleep'] = dfs[2]['TotalMinutesAsleep'] / 60\n",
    "dfs[2]['HoursInBed'] = dfs[2]['TotalTimeInBed'] / 60\n",
    "# remove minute columns\n",
    "dfs[2] = dfs[2].drop(columns=['TotalMinutesAsleep'])\n",
    "dfs[2] = dfs[2].drop(columns=['TotalTimeInBed'])\n",
    "\n",
    "print(dfs[2].columns)"
   ]
  },
  {
   "cell_type": "code",
   "execution_count": 11,
   "id": "87d49262-8f10-4567-a8e5-c7f17fee5642",
   "metadata": {
    "tags": []
   },
   "outputs": [
    {
     "name": "stdout",
     "output_type": "stream",
     "text": [
      "           Id ActivityDate  TotalSteps  TotalDistance  ActiveDistance3  \\\n",
      "0  1503960366    4/12/2016       13162           8.50             1.88   \n",
      "1  1503960366    4/13/2016       10735           6.97             1.57   \n",
      "2  1503960366    4/14/2016       10460           6.74             2.44   \n",
      "3  1503960366    4/15/2016        9762           6.28             2.14   \n",
      "4  1503960366    4/16/2016       12669           8.16             2.71   \n",
      "\n",
      "   ActiveDistance2  ActiveDistance1  ActiveDistance0  ActiveMinutes3  \\\n",
      "0             0.55             6.06              0.0              25   \n",
      "1             0.69             4.71              0.0              21   \n",
      "2             0.40             3.91              0.0              30   \n",
      "3             1.26             2.83              0.0              29   \n",
      "4             0.41             5.04              0.0              36   \n",
      "\n",
      "   ActiveMinutes2  ActiveMinutes1  ActiveMinutes0  Calories  \n",
      "0              13             328             728      1985  \n",
      "1              19             217             776      1797  \n",
      "2              11             181            1218      1776  \n",
      "3              34             209             726      1745  \n",
      "4              10             221             773      1863  \n"
     ]
    }
   ],
   "source": [
    "print(dfs[0].head())"
   ]
  },
  {
   "cell_type": "code",
   "execution_count": 12,
   "id": "c6cdf34e-5625-4578-b39a-6e1d85886907",
   "metadata": {
    "tags": []
   },
   "outputs": [
    {
     "name": "stdout",
     "output_type": "stream",
     "text": [
      "*******dailyActivity\n",
      " Id                   int64\n",
      "ActivityDate        object\n",
      "TotalSteps           int64\n",
      "TotalDistance      float64\n",
      "ActiveDistance3    float64\n",
      "ActiveDistance2    float64\n",
      "ActiveDistance1    float64\n",
      "ActiveDistance0    float64\n",
      "ActiveMinutes3       int64\n",
      "ActiveMinutes2       int64\n",
      "ActiveMinutes1       int64\n",
      "ActiveMinutes0       int64\n",
      "Calories             int64\n",
      "dtype: object\n",
      "*******heartrate_reduced\n",
      " Id                      int64\n",
      "Time                   object\n",
      "PulseHourlyAverage    float64\n",
      "dtype: object\n",
      "*******sleepDay\n",
      " Id               int64\n",
      "SleepDay        object\n",
      "HoursAsleep    float64\n",
      "HoursInBed     float64\n",
      "dtype: object\n",
      "*******weightLogInfo\n",
      " Id                int64\n",
      "Date             object\n",
      "WeightPounds    float64\n",
      "BMI             float64\n",
      "dtype: object\n"
     ]
    }
   ],
   "source": [
    "# datatypes\n",
    "for i in range(4):   \n",
    "    print(f\"*******{fnames[i]}\\n\", dfs[i].dtypes)"
   ]
  },
  {
   "cell_type": "code",
   "execution_count": 13,
   "id": "760696ee-302f-4ee7-afa1-1b3b3d726f48",
   "metadata": {
    "tags": []
   },
   "outputs": [],
   "source": [
    "# Transform all time column labels to DateTime data type\n",
    "time_col_labels = [\"ActivityDate\", \"Time\", \"SleepDay\", \"Date\"]\n",
    "for i in range(4): \n",
    "    str0 = time_col_labels[i]\n",
    "    dfs[i][str0] = pd.to_datetime(dfs[i][str0])"
   ]
  },
  {
   "cell_type": "code",
   "execution_count": 14,
   "id": "134ab7c8-7c20-4dca-a982-dcfa58f44489",
   "metadata": {
    "tags": []
   },
   "outputs": [
    {
     "name": "stdout",
     "output_type": "stream",
     "text": [
      "*******dailyActivity\n",
      " Id                          int64\n",
      "ActivityDate       datetime64[ns]\n",
      "TotalSteps                  int64\n",
      "TotalDistance             float64\n",
      "ActiveDistance3           float64\n",
      "ActiveDistance2           float64\n",
      "ActiveDistance1           float64\n",
      "ActiveDistance0           float64\n",
      "ActiveMinutes3              int64\n",
      "ActiveMinutes2              int64\n",
      "ActiveMinutes1              int64\n",
      "ActiveMinutes0              int64\n",
      "Calories                    int64\n",
      "dtype: object\n",
      "*******heartrate_reduced\n",
      " Id                             int64\n",
      "Time                  datetime64[ns]\n",
      "PulseHourlyAverage           float64\n",
      "dtype: object\n",
      "*******sleepDay\n",
      " Id                      int64\n",
      "SleepDay       datetime64[ns]\n",
      "HoursAsleep           float64\n",
      "HoursInBed            float64\n",
      "dtype: object\n",
      "*******weightLogInfo\n",
      " Id                       int64\n",
      "Date            datetime64[ns]\n",
      "WeightPounds           float64\n",
      "BMI                    float64\n",
      "dtype: object\n"
     ]
    }
   ],
   "source": [
    "# datatypes\n",
    "for i in range(4):   \n",
    "    print(f\"*******{fnames[i]}\\n\", dfs[i].dtypes)"
   ]
  },
  {
   "cell_type": "code",
   "execution_count": 15,
   "id": "42735b71-41ea-46d5-9305-27f2d812613c",
   "metadata": {
    "tags": []
   },
   "outputs": [
    {
     "name": "stdout",
     "output_type": "stream",
     "text": [
      "*******dailyActivity\n",
      "False\n",
      "*******heartrate_reduced\n",
      "False\n",
      "*******sleepDay\n",
      "True\n",
      "*******weightLogInfo\n",
      "False\n"
     ]
    }
   ],
   "source": [
    "# check for duplicates. \n",
    "# df.duplicated() returns a dataframe\n",
    "# of same shape as original df, but with bool entries.\n",
    "# any() does OR on all bool entries.\n",
    "for i in range(4):\n",
    "    print(f\"*******{fnames[i]}\") \n",
    "    print(dfs[i].duplicated().any())     "
   ]
  },
  {
   "cell_type": "code",
   "execution_count": 16,
   "id": "c951b1fa-415a-4849-8370-60c6d4d4f5b8",
   "metadata": {
    "tags": []
   },
   "outputs": [
    {
     "name": "stdout",
     "output_type": "stream",
     "text": [
      "*******dailyActivity\n",
      "Id                 False\n",
      "ActivityDate       False\n",
      "TotalSteps         False\n",
      "TotalDistance      False\n",
      "ActiveDistance3    False\n",
      "ActiveDistance2    False\n",
      "ActiveDistance1    False\n",
      "ActiveDistance0    False\n",
      "ActiveMinutes3     False\n",
      "ActiveMinutes2     False\n",
      "ActiveMinutes1     False\n",
      "ActiveMinutes0     False\n",
      "Calories           False\n",
      "dtype: bool\n",
      "*******heartrate_reduced\n",
      "Id                    False\n",
      "Time                  False\n",
      "PulseHourlyAverage    False\n",
      "dtype: bool\n",
      "*******sleepDay\n",
      "Id             False\n",
      "SleepDay       False\n",
      "HoursAsleep    False\n",
      "HoursInBed     False\n",
      "dtype: bool\n",
      "*******weightLogInfo\n",
      "Id              False\n",
      "Date            False\n",
      "WeightPounds    False\n",
      "BMI             False\n",
      "dtype: bool\n"
     ]
    }
   ],
   "source": [
    "# check for nulls = missing\n",
    "# df.isnull() returns a dataframe\n",
    "# of same shape as original df, but with bool entries.\n",
    "# any() does OR on all bool entries.\n",
    "for i in range(4):\n",
    "    print(f\"*******{fnames[i]}\") \n",
    "    print(dfs[i].isnull().any())\n",
    "          "
   ]
  },
  {
   "cell_type": "code",
   "execution_count": 17,
   "id": "f739a75f-edbc-4d17-a58f-003d19ea60ba",
   "metadata": {
    "tags": []
   },
   "outputs": [],
   "source": [
    "# renaming time columns all by same name\n",
    "time_col_labels = [\"ActivityDate\", \"Time\", \"SleepDay\", \"Date\"]\n",
    "for i in range(4): \n",
    "    str0 = time_col_labels[i]\n",
    "    dfs[i] = dfs[i].rename(columns={str0: 'DateTime'})"
   ]
  },
  {
   "cell_type": "code",
   "execution_count": 18,
   "id": "699a5d54-44c4-413e-bafb-e6b439944c8b",
   "metadata": {
    "tags": []
   },
   "outputs": [
    {
     "name": "stdout",
     "output_type": "stream",
     "text": [
      "              Id   DateTime  TotalSteps  TotalDistance  ActiveDistance3  \\\n",
      "0     1503960366 2016-04-12     13162.0           8.50             1.88   \n",
      "4611  7086361926 2016-04-12     13162.0           8.50             1.88   \n",
      "536   5553957443 2016-04-12     11596.0           7.57             1.37   \n",
      "505   4702921684 2016-04-12      7213.0           5.88             0.00   \n",
      "474   4558609924 2016-04-12      5135.0           3.39             0.00   \n",
      "\n",
      "      ActiveDistance2  ActiveDistance1  ActiveDistance0  ActiveMinutes3  \\\n",
      "0                0.55             6.06              0.0            25.0   \n",
      "4611             0.55             6.06              0.0            25.0   \n",
      "536              0.79             5.41              0.0            19.0   \n",
      "505              0.00             5.85              0.0             0.0   \n",
      "474              0.00             3.39              0.0             0.0   \n",
      "\n",
      "      ActiveMinutes2  ActiveMinutes1  ActiveMinutes0  Calories  \\\n",
      "0               13.0           328.0           728.0    1985.0   \n",
      "4611            13.0           328.0           728.0    1985.0   \n",
      "536             13.0           277.0           767.0    2026.0   \n",
      "505              0.0           263.0           718.0    2947.0   \n",
      "474              0.0           318.0          1122.0    1909.0   \n",
      "\n",
      "      PulseHourlyAverage  HoursAsleep  HoursInBed  WeightPounds  BMI  \n",
      "0                    NaN          NaN         NaN           NaN  NaN  \n",
      "4611                 NaN     8.566667        8.75           NaN  NaN  \n",
      "536                  NaN     8.566667        8.75           NaN  NaN  \n",
      "505                  NaN     8.566667        8.75           NaN  NaN  \n",
      "474                  NaN     8.566667        8.75           NaN  NaN  \n",
      "Index(['Id', 'DateTime', 'TotalSteps', 'TotalDistance', 'ActiveDistance3',\n",
      "       'ActiveDistance2', 'ActiveDistance1', 'ActiveDistance0',\n",
      "       'ActiveMinutes3', 'ActiveMinutes2', 'ActiveMinutes1', 'ActiveMinutes0',\n",
      "       'Calories', 'PulseHourlyAverage', 'HoursAsleep', 'HoursInBed',\n",
      "       'WeightPounds', 'BMI'],\n",
      "      dtype='object')\n"
     ]
    }
   ],
   "source": [
    "# Concatenate the DataFrames vertically to combine all the data\n",
    "combined_df = pd.concat(dfs, ignore_index=True)\n",
    "\n",
    "# Sort the combined DataFrame by \"DateTime\" \n",
    "combined_df.sort_values(by='DateTime', inplace=True)\n",
    "\n",
    "# Merge the data using forward fill (ffill)\n",
    "combined_df.ffill(inplace=True)\n",
    "\n",
    "print(combined_df.head())\n",
    "print(combined_df.columns)"
   ]
  },
  {
   "cell_type": "code",
   "execution_count": 19,
   "id": "f4eee174-0d28-4750-ac9e-3397125ceee2",
   "metadata": {},
   "outputs": [],
   "source": [
    "# add day of week column\n",
    "\n",
    "combined_df['DayOfWeek'] = combined_df['DateTime'].dt.dayofweek\n",
    "\n",
    "# Mapping the numeric representation of days to their respective names\n",
    "combined_df['DayOfWeek'] = combined_df['DayOfWeek'].map({\n",
    "    0: 'Mon',\n",
    "    1: 'Tue',\n",
    "    2: 'Wed',\n",
    "    3: 'Thu',\n",
    "    4: 'Fri',\n",
    "    5: 'Sat',\n",
    "    6: 'Sun'\n",
    "})"
   ]
  },
  {
   "cell_type": "code",
   "execution_count": 20,
   "id": "9febadbc-c324-4ae9-b449-84b393dc94a8",
   "metadata": {
    "tags": []
   },
   "outputs": [
    {
     "name": "stdout",
     "output_type": "stream",
     "text": [
      "(4752, 19)\n"
     ]
    }
   ],
   "source": [
    "print(combined_df.shape)"
   ]
  },
  {
   "cell_type": "code",
   "execution_count": 21,
   "id": "c05ac96a-4541-4169-bcdb-0bde977c65c7",
   "metadata": {},
   "outputs": [
    {
     "name": "stdout",
     "output_type": "stream",
     "text": [
      "              Id   DateTime  TotalSteps  TotalDistance  ActiveDistance3  \\\n",
      "0     1503960366 2016-04-12     13162.0           8.50             1.88   \n",
      "4611  7086361926 2016-04-12     13162.0           8.50             1.88   \n",
      "536   5553957443 2016-04-12     11596.0           7.57             1.37   \n",
      "505   4702921684 2016-04-12      7213.0           5.88             0.00   \n",
      "474   4558609924 2016-04-12      5135.0           3.39             0.00   \n",
      "\n",
      "      ActiveDistance2  ActiveDistance1  ActiveDistance0  ActiveMinutes3  \\\n",
      "0                0.55             6.06              0.0            25.0   \n",
      "4611             0.55             6.06              0.0            25.0   \n",
      "536              0.79             5.41              0.0            19.0   \n",
      "505              0.00             5.85              0.0             0.0   \n",
      "474              0.00             3.39              0.0             0.0   \n",
      "\n",
      "      ActiveMinutes2  ActiveMinutes1  ActiveMinutes0  Calories  \\\n",
      "0               13.0           328.0           728.0    1985.0   \n",
      "4611            13.0           328.0           728.0    1985.0   \n",
      "536             13.0           277.0           767.0    2026.0   \n",
      "505              0.0           263.0           718.0    2947.0   \n",
      "474              0.0           318.0          1122.0    1909.0   \n",
      "\n",
      "      PulseHourlyAverage  HoursAsleep  HoursInBed  WeightPounds  BMI DayOfWeek  \n",
      "0                    NaN          NaN         NaN           NaN  NaN       Tue  \n",
      "4611                 NaN        8.567        8.75           NaN  NaN       Tue  \n",
      "536                  NaN        8.567        8.75           NaN  NaN       Tue  \n",
      "505                  NaN        8.567        8.75           NaN  NaN       Tue  \n",
      "474                  NaN        8.567        8.75           NaN  NaN       Tue  \n"
     ]
    }
   ],
   "source": [
    "# round float64 columns\n",
    "float_cols = combined_df.select_dtypes(include=['float64']).columns\n",
    "combined_df[float_cols] = combined_df[float_cols].round(3)\n",
    "\n",
    "print(combined_df.head())"
   ]
  },
  {
   "cell_type": "code",
   "execution_count": 22,
   "id": "1c695b9b-cb3a-492e-81d8-232bf226cd59",
   "metadata": {
    "tags": []
   },
   "outputs": [
    {
     "name": "stdout",
     "output_type": "stream",
     "text": [
      "1, 1503960366, (58, 19)\n",
      "2, 1624580081, (31, 19)\n",
      "3, 1644430081, (34, 19)\n",
      "4, 1844505072, (34, 19)\n",
      "5, 1927972279, (37, 19)\n",
      "6, 2022484408, (246, 19)\n",
      "7, 2026352035, (64, 19)\n",
      "8, 2320127002, (32, 19)\n",
      "9, 2347167796, (274, 19)\n",
      "10, 2873212765, (33, 19)\n",
      "11, 3372868164, (20, 19)\n",
      "12, 3977333714, (58, 19)\n",
      "13, 4020332650, (119, 19)\n",
      "14, 4057192912, (4, 19)\n",
      "15, 4319703577, (59, 19)\n",
      "16, 4388161847, (514, 19)\n",
      "17, 4445114986, (59, 19)\n",
      "18, 4558609924, (333, 19)\n",
      "19, 4702921684, (59, 19)\n",
      "20, 5553957443, (467, 19)\n",
      "21, 5577150313, (434, 19)\n",
      "22, 6117666160, (326, 19)\n",
      "23, 6290855005, (29, 19)\n",
      "24, 6775888955, (88, 19)\n",
      "25, 6962181067, (513, 19)\n",
      "26, 7007744171, (243, 19)\n",
      "27, 7086361926, (55, 19)\n",
      "28, 8053475328, (34, 19)\n",
      "29, 8253242879, (19, 19)\n",
      "30, 8378563200, (63, 19)\n",
      "31, 8583815059, (31, 19)\n",
      "32, 8792009665, (265, 19)\n",
      "33, 8877689391, (117, 19)\n"
     ]
    }
   ],
   "source": [
    "# create patient files\n",
    "def get_patient_csv_path(patient_id):\n",
    "    return f\"patient_csv_records/patient_{patient_id}.csv\"\n",
    "group_dict = combined_df.groupby('Id')\n",
    "num = 0\n",
    "patient_ids = []\n",
    "for patient_id, patient_df in group_dict:\n",
    "    patient_ids.append(patient_id)\n",
    "    num += 1    \n",
    "    patient_df.to_csv(get_patient_csv_path(patient_id), index=False)\n",
    "    print(f\"{num}, {patient_id}, {patient_df.shape}\")"
   ]
  },
  {
   "cell_type": "code",
   "execution_count": 23,
   "id": "4713ace4-da50-4780-9367-7311249aa637",
   "metadata": {},
   "outputs": [
    {
     "name": "stdout",
     "output_type": "stream",
     "text": [
      "['ActiveDistance0', 'ActiveDistance0Vel', 'ActiveDistance1', 'ActiveDistance1Vel', 'ActiveDistance2', 'ActiveDistance2Vel', 'ActiveDistance3', 'ActiveDistance3Vel', 'ActiveMinutes0', 'ActiveMinutes0Vel', 'ActiveMinutes1', 'ActiveMinutes1Vel', 'ActiveMinutes2', 'ActiveMinutes2Vel', 'ActiveMinutes3', 'ActiveMinutes3Vel', 'BMI', 'BMIVel', 'Calories', 'CaloriesVel', 'HoursAsleep', 'HoursAsleepVel', 'HoursInBed', 'HoursInBedVel', 'PulseHourlyAverage', 'PulseHourlyAverageVel', 'TotalDistance', 'TotalDistanceVel', 'TotalSteps', 'TotalStepsVel', 'WeightPounds', 'WeightPoundsVel']\n",
      "\n",
      "Index(['Id', 'DateTime', 'DateTimeDiff', 'DayOfWeek', 'ActiveDistance0',\n",
      "       'ActiveDistance0Vel', 'ActiveDistance1', 'ActiveDistance1Vel',\n",
      "       'ActiveDistance2', 'ActiveDistance2Vel', 'ActiveDistance3',\n",
      "       'ActiveDistance3Vel', 'ActiveMinutes0', 'ActiveMinutes0Vel',\n",
      "       'ActiveMinutes1', 'ActiveMinutes1Vel', 'ActiveMinutes2',\n",
      "       'ActiveMinutes2Vel', 'ActiveMinutes3', 'ActiveMinutes3Vel', 'BMI',\n",
      "       'BMIVel', 'Calories', 'CaloriesVel', 'HoursAsleep', 'HoursAsleepVel',\n",
      "       'HoursInBed', 'HoursInBedVel', 'PulseHourlyAverage',\n",
      "       'PulseHourlyAverageVel', 'TotalDistance', 'TotalDistanceVel',\n",
      "       'TotalSteps', 'TotalStepsVel', 'WeightPounds', 'WeightPoundsVel'],\n",
      "      dtype='object')\n"
     ]
    }
   ],
   "source": [
    "# add velocity columns to each patient file\n",
    "\n",
    "print_features = True\n",
    "for patient_id in patient_ids:\n",
    "    patient_df = pd.read_csv(get_patient_csv_path(patient_id))\n",
    "    patient_df[\"DateTime\"] = pd.to_datetime(patient_df[\"DateTime\"])\n",
    "    # add datetime diff column (in hours)\n",
    "    patient_df[\"DateTimeDiff\"] = patient_df[\"DateTime\"].diff().dt.total_seconds() / 3600\n",
    "    id_time_cols = [\"Id\", \"DateTime\", \"DateTimeDiff\", \"DayOfWeek\"]\n",
    "    for col in patient_df.columns:\n",
    "        if col not in id_time_cols:\n",
    "            patient_df[f\"{col}Vel\"] = \\\n",
    "                (patient_df[col].diff()/patient_df[\"DateTimeDiff\"]).round(3)     \n",
    "    # change these 3 column names so they appear first in sorting\n",
    "    patient_df =  patient_df.rename(columns={\"Id\": \"1Id\"})\n",
    "    patient_df =  patient_df.rename(columns={\"DateTime\": \"2DateTime\"})\n",
    "    patient_df =  patient_df.rename(columns={\"DateTimeDiff\": \"3DateTimeDiff\"})\n",
    "    patient_df =  patient_df.rename(columns={\"DayOfWeek\": \"4DayOfWeek\"})\n",
    "    # sort columns alphabetically\n",
    "    patient_df = patient_df.reindex(sorted(patient_df.columns), axis=1)\n",
    "    # restore old column names\n",
    "    patient_df =  patient_df.rename(columns={\"1Id\": \"Id\"})\n",
    "    patient_df =  patient_df.rename(columns={\"2DateTime\": \"DateTime\"})\n",
    "    patient_df =  patient_df.rename(columns={\"3DateTimeDiff\": \"DateTimeDiff\"}) \n",
    "    patient_df =  patient_df.rename(columns={\"4DayOfWeek\": \"DayOfWeek\"})\n",
    "    \n",
    "    if print_features:\n",
    "        id_time_cols = ['Id', 'DateTime', 'DateTimeDiff', \"DayOfWeek\"]\n",
    "        features = [col for col in patient_df.columns if col not in id_time_cols]\n",
    "        print(features)\n",
    "        print()\n",
    "        print(patient_df.columns)\n",
    "        print_features = False\n",
    "    \n",
    "    patient_df.to_csv(get_patient_csv_path(patient_id), index=False)  "
   ]
  },
  {
   "cell_type": "code",
   "execution_count": null,
   "id": "f0b53167-6a95-4472-abc9-640938c250f2",
   "metadata": {
    "tags": []
   },
   "outputs": [],
   "source": []
  }
 ],
 "metadata": {
  "kernelspec": {
   "display_name": "Python 3 (ipykernel)",
   "language": "python",
   "name": "python3"
  },
  "language_info": {
   "codemirror_mode": {
    "name": "ipython",
    "version": 3
   },
   "file_extension": ".py",
   "mimetype": "text/x-python",
   "name": "python",
   "nbconvert_exporter": "python",
   "pygments_lexer": "ipython3",
   "version": "3.10.9"
  }
 },
 "nbformat": 4,
 "nbformat_minor": 5
}
